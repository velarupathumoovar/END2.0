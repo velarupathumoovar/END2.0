{
  "nbformat": 4,
  "nbformat_minor": 0,
  "metadata": {
    "colab": {
      "name": "Seesion3.ipynb",
      "provenance": [],
      "collapsed_sections": [],
      "authorship_tag": "ABX9TyOfz1VOrfbFiddeBiDv+Zlm",
      "include_colab_link": true
    },
    "kernelspec": {
      "name": "python3",
      "display_name": "Python 3"
    },
    "language_info": {
      "name": "python"
    }
  },
  "cells": [
    {
      "cell_type": "markdown",
      "metadata": {
        "id": "view-in-github",
        "colab_type": "text"
      },
      "source": [
        "<a href=\"https://colab.research.google.com/github/velarupathumoovar/END2.0/blob/main/Seesion3.ipynb\" target=\"_parent\"><img src=\"https://colab.research.google.com/assets/colab-badge.svg\" alt=\"Open In Colab\"/></a>"
      ]
    },
    {
      "cell_type": "code",
      "metadata": {
        "id": "T4UXgbt8UYqn"
      },
      "source": [
        "import torch\n",
        "import torch.nn as nn\n",
        "import torch.nn.functional as F\n",
        "import torch.optim as optim\n",
        "\n",
        "import torchvision\n",
        "import torchvision.transforms as transforms\n",
        "from torch.autograd import Variable"
      ],
      "execution_count": 59,
      "outputs": []
    },
    {
      "cell_type": "code",
      "metadata": {
        "colab": {
          "base_uri": "https://localhost:8080/"
        },
        "id": "sWLXxG8KUapC",
        "outputId": "06f3b12f-74c7-49a7-e04f-fbe1e9b46a16"
      },
      "source": [
        "torch.set_printoptions(linewidth=100)\n",
        "torch.set_grad_enabled(True)"
      ],
      "execution_count": 60,
      "outputs": [
        {
          "output_type": "execute_result",
          "data": {
            "text/plain": [
              "<torch.autograd.grad_mode.set_grad_enabled at 0x7fc6a08cb410>"
            ]
          },
          "metadata": {
            "tags": []
          },
          "execution_count": 60
        }
      ]
    },
    {
      "cell_type": "code",
      "metadata": {
        "colab": {
          "base_uri": "https://localhost:8080/"
        },
        "id": "HBsId6A6UdC4",
        "outputId": "a2687f15-472a-49f2-f1ef-4c93aface1c9"
      },
      "source": [
        "print(torch.__version__)\n",
        "print(torchvision.__version__)"
      ],
      "execution_count": 61,
      "outputs": [
        {
          "output_type": "stream",
          "text": [
            "1.8.1+cu101\n",
            "0.9.1+cu101\n"
          ],
          "name": "stdout"
        }
      ]
    },
    {
      "cell_type": "markdown",
      "metadata": {
        "id": "wtLtVGQTndpy"
      },
      "source": [
        "**Created Classification Network for MNIST Data**\n",
        "\n"
      ]
    },
    {
      "cell_type": "code",
      "metadata": {
        "id": "E7fpr3S6UdDe"
      },
      "source": [
        "class Classification_Network(nn.Module):\n",
        "  def __init__(self):\n",
        "    super().__init__()\n",
        "  \n",
        "    #Convoulution Layer\n",
        "    self.conv1 = nn.Conv2d(in_channels=1,out_channels=6,kernel_size=5)\n",
        "    self.conv2 = nn.Conv2d(in_channels=6,out_channels=12,kernel_size=5)\n",
        "    \n",
        "    #Fully Connected Layer\n",
        "    self.fc1 = nn.Linear(in_features=12*4*4,out_features=120)\n",
        "    self.fc2 = nn.Linear(in_features=120,out_features=60)\n",
        "\n",
        "    #Output Layer\n",
        "    self.out = nn.Linear(in_features=60,out_features=10)\n",
        "  \n",
        "  def forward(self,t):\n",
        "   \n",
        "    #1.input layer\n",
        "    t = t\n",
        "\n",
        "    #2.hidden conv layer-1\n",
        "    t = self.conv1(t)\n",
        "    t = F.relu(t)\n",
        "    t = F.max_pool2d(t,kernel_size=2,stride=2)\n",
        "\n",
        "    #3.hidden conv layer-2\n",
        "    t = self.conv2(t)\n",
        "    t = F.relu(t)\n",
        "    t = F.max_pool2d(t,kernel_size=2,stride=2)\n",
        "\n",
        "    #4.Fully connected layer-1\n",
        "    t = self.fc1(t.reshape(-1,12*4*4))\n",
        "    t = F.relu(t)\n",
        "\n",
        "    #5.Fully connected layer-2\n",
        "    t = self.fc2(t)\n",
        "    t = F.relu(t)\n",
        "\n",
        "    t = self.out(t)\n",
        "    \n",
        "    return t"
      ],
      "execution_count": 62,
      "outputs": []
    },
    {
      "cell_type": "code",
      "metadata": {
        "id": "blYhBGiUVlzX"
      },
      "source": [
        "def get_num_correct(preds,labels):\n",
        "  return preds.argmax(dim=1).eq(labels).sum().item()"
      ],
      "execution_count": 63,
      "outputs": []
    },
    {
      "cell_type": "code",
      "metadata": {
        "id": "alJvXd0NVAOI"
      },
      "source": [
        "train_set = torchvision.datasets.MNIST(root='/data',train=True,download=True,transform=transforms.Compose([transforms.ToTensor()]))\n",
        "train_loader = torch.utils.data.DataLoader(train_set,batch_size=100)"
      ],
      "execution_count": 64,
      "outputs": []
    },
    {
      "cell_type": "code",
      "metadata": {
        "id": "jwKErVb1Vb6P"
      },
      "source": [
        "class_network = Classification_Network()\n",
        "optimizer = optim.Adam(class_network.parameters(),lr=0.01)"
      ],
      "execution_count": 65,
      "outputs": []
    },
    {
      "cell_type": "code",
      "metadata": {
        "colab": {
          "base_uri": "https://localhost:8080/"
        },
        "id": "wGGpsRryVZ89",
        "outputId": "920a579e-ddc4-4bae-8a40-dcffcaa2517d"
      },
      "source": [
        "for epoch in range(25):\n",
        "  total_loss = 0\n",
        "  total_correct = 0\n",
        "  for batch in train_loader:\n",
        "    images,labels = batch\n",
        "    preds = class_network(images)\n",
        "    loss = F.cross_entropy(preds,labels)\n",
        "    optimizer.zero_grad()\n",
        "    loss.backward()\n",
        "    optimizer.step()\n",
        "    total_loss += loss.item()\n",
        "    total_correct +=get_num_correct(preds,labels)\n",
        "  print(\"Epoch: \",epoch,\"Total Loss: \",total_loss,\"Total Correct: \",total_correct,\"Accuracy: \",total_correct/len(train_set))"
      ],
      "execution_count": 66,
      "outputs": [
        {
          "output_type": "stream",
          "text": [
            "Epoch:  0 Total Loss:  122.94649325759383 Total Correct:  56188 Accuracy:  0.9364666666666667\n",
            "Epoch:  1 Total Loss:  48.960059096163604 Total Correct:  58543 Accuracy:  0.9757166666666667\n",
            "Epoch:  2 Total Loss:  38.73089526107651 Total Correct:  58879 Accuracy:  0.9813166666666666\n",
            "Epoch:  3 Total Loss:  39.37712589527655 Total Correct:  58877 Accuracy:  0.9812833333333333\n",
            "Epoch:  4 Total Loss:  38.07633040857036 Total Correct:  58947 Accuracy:  0.98245\n",
            "Epoch:  5 Total Loss:  37.32906524691498 Total Correct:  58995 Accuracy:  0.98325\n",
            "Epoch:  6 Total Loss:  36.12159510356241 Total Correct:  58983 Accuracy:  0.98305\n",
            "Epoch:  7 Total Loss:  35.22710088140229 Total Correct:  59066 Accuracy:  0.9844333333333334\n",
            "Epoch:  8 Total Loss:  29.648553028939205 Total Correct:  59211 Accuracy:  0.98685\n",
            "Epoch:  9 Total Loss:  31.871089127998857 Total Correct:  59161 Accuracy:  0.9860166666666667\n",
            "Epoch:  10 Total Loss:  33.84629185650556 Total Correct:  59142 Accuracy:  0.9857\n",
            "Epoch:  11 Total Loss:  29.179321938397152 Total Correct:  59265 Accuracy:  0.98775\n",
            "Epoch:  12 Total Loss:  27.071429735487982 Total Correct:  59303 Accuracy:  0.9883833333333333\n",
            "Epoch:  13 Total Loss:  31.323553907162932 Total Correct:  59231 Accuracy:  0.9871833333333333\n",
            "Epoch:  14 Total Loss:  28.67031301812969 Total Correct:  59321 Accuracy:  0.9886833333333334\n",
            "Epoch:  15 Total Loss:  35.48461886817131 Total Correct:  59216 Accuracy:  0.9869333333333333\n",
            "Epoch:  16 Total Loss:  24.68901461597011 Total Correct:  59408 Accuracy:  0.9901333333333333\n",
            "Epoch:  17 Total Loss:  26.295497458420186 Total Correct:  59404 Accuracy:  0.9900666666666667\n",
            "Epoch:  18 Total Loss:  21.98580694955126 Total Correct:  59490 Accuracy:  0.9915\n",
            "Epoch:  19 Total Loss:  31.885910217904666 Total Correct:  59318 Accuracy:  0.9886333333333334\n",
            "Epoch:  20 Total Loss:  31.182988667323116 Total Correct:  59356 Accuracy:  0.9892666666666666\n",
            "Epoch:  21 Total Loss:  24.882049182694033 Total Correct:  59475 Accuracy:  0.99125\n",
            "Epoch:  22 Total Loss:  25.42355119888316 Total Correct:  59477 Accuracy:  0.9912833333333333\n",
            "Epoch:  23 Total Loss:  23.544909423435456 Total Correct:  59512 Accuracy:  0.9918666666666667\n",
            "Epoch:  24 Total Loss:  29.11242084983482 Total Correct:  59428 Accuracy:  0.9904666666666667\n"
          ],
          "name": "stdout"
        }
      ]
    },
    {
      "cell_type": "code",
      "metadata": {
        "id": "VWXafvfpXaHo"
      },
      "source": [
        "test_set = torchvision.datasets.MNIST(root='./data', train=False, download=True, transform=transforms.Compose([transforms.ToTensor()]))\n",
        "test_loader = torch.utils.data.DataLoader(test_set,batch_size=100)"
      ],
      "execution_count": 110,
      "outputs": []
    },
    {
      "cell_type": "code",
      "metadata": {
        "colab": {
          "base_uri": "https://localhost:8080/"
        },
        "id": "hYyYd4WYbFTv",
        "outputId": "500bd1a7-af1a-4f36-e977-36f8c3c5461e"
      },
      "source": [
        "with torch.no_grad():\n",
        "  for test_image,target in test_loader:\n",
        "    test_pred = class_network(test_image)\n",
        "  print(\"Nos. of Images: \",len(target),\"Nos. Correct Predicton:\",get_num_correct(test_pred,target),\"Accuracy: \",get_num_correct(test_pred,target)/len(target))\n"
      ],
      "execution_count": 111,
      "outputs": [
        {
          "output_type": "stream",
          "text": [
            "Nos. of Images:  100 Nos. Correct Predicton: 98 Accuracy:  0.98\n"
          ],
          "name": "stdout"
        }
      ]
    },
    {
      "cell_type": "markdown",
      "metadata": {
        "id": "4dOGneRDn2e-"
      },
      "source": [
        "**Created Classification Network for MNIST Data**"
      ]
    },
    {
      "cell_type": "code",
      "metadata": {
        "id": "Y-Ktk1AjcsU8"
      },
      "source": [
        "class Regression_Network(torch.nn.Module):\n",
        "  def __init__(self,input_size,output_size):\n",
        "    super(Regression_Network,self).__init__()\n",
        "    self.linear = torch.nn.Linear(input_size,output_size)\n",
        "  \n",
        "  def forward(self,x):\n",
        "    out = self.linear(x)\n",
        "    return out"
      ],
      "execution_count": 69,
      "outputs": []
    },
    {
      "cell_type": "code",
      "metadata": {
        "id": "Hsjd51gJddr5"
      },
      "source": [
        "import numpy as np\n",
        "# create dummy data for training\n",
        "x_values = [i for i in range(12)]\n",
        "x_train = np.array(x_values, dtype=np.float32)\n",
        "x_train = x_train.reshape(-1, 2)\n",
        "\n",
        "y_values = [1,5,9,13,17,21]\n",
        "y_train = np.array(y_values, dtype=np.float32)\n",
        "y_train = y_train.reshape(-1, 1)"
      ],
      "execution_count": 70,
      "outputs": []
    },
    {
      "cell_type": "code",
      "metadata": {
        "id": "oLCCh3w1cLpM"
      },
      "source": [
        "lrate = 0.01\n",
        "lr_model = Regression_Network(2,1)\n",
        "criterion = torch.nn.MSELoss()\n",
        "optimizer = torch.optim.SGD(lr_model.parameters(),lr=lrate)"
      ],
      "execution_count": 71,
      "outputs": []
    },
    {
      "cell_type": "code",
      "metadata": {
        "id": "N7ScGrBPdgPo"
      },
      "source": [
        "for epoch in range(100):\n",
        "  inputs = torch.from_numpy(x_train)\n",
        "  labels = torch.from_numpy(y_train)\n",
        "  optimizer.zero_grad()\n",
        "  outputs = lr_model(inputs)\n",
        "  loss = criterion(outputs,labels)\n",
        "  print(inputs.shape)\n",
        "  loss.backward()\n",
        "  optimizer.step()\n",
        "  print('epoch {}, loss {}'.format(epoch,loss.item()))"
      ],
      "execution_count": null,
      "outputs": []
    },
    {
      "cell_type": "code",
      "metadata": {
        "colab": {
          "base_uri": "https://localhost:8080/"
        },
        "id": "I61kfQlbdIJv",
        "outputId": "78d7202e-3979-466c-bf5a-394479d4580a"
      },
      "source": [
        "import numpy as np\n",
        "test_values = [10.,10,11.,11.,12.,12.]\n",
        "print(type(test_values))\n",
        "x_test = np.array(test_values, dtype=np.float32).reshape(-1,2)\n",
        "print(x_test)"
      ],
      "execution_count": 126,
      "outputs": [
        {
          "output_type": "stream",
          "text": [
            "<class 'list'>\n",
            "[[10. 10.]\n",
            " [11. 11.]\n",
            " [12. 12.]]\n"
          ],
          "name": "stdout"
        }
      ]
    },
    {
      "cell_type": "code",
      "metadata": {
        "colab": {
          "base_uri": "https://localhost:8080/"
        },
        "id": "kGoLSDRRb5Qu",
        "outputId": "1ec5cc2b-7675-4fe4-f70a-9a250f80048b"
      },
      "source": [
        "with torch.no_grad():\n",
        "  predicted = lr_model(Variable(torch.from_numpy(x_test))).data.numpy()\n",
        "  print(predicted)"
      ],
      "execution_count": 74,
      "outputs": [
        {
          "output_type": "stream",
          "text": [
            "[[20.180716]\n",
            " [22.150303]\n",
            " [24.11989 ]]\n"
          ],
          "name": "stdout"
        }
      ]
    },
    {
      "cell_type": "code",
      "metadata": {
        "id": "X13IHh17b5Ri"
      },
      "source": [
        "from numpy import random\n",
        "a = np.array([])\n",
        "for x in range(100):\n",
        "  x = random.randint(9)\n",
        "  a = np.append(a,x)\n",
        "Gen_Random_Num = a.reshape(-1,1)"
      ],
      "execution_count": 112,
      "outputs": []
    },
    {
      "cell_type": "code",
      "metadata": {
        "colab": {
          "base_uri": "https://localhost:8080/"
        },
        "id": "bTbiKXtOhUEq",
        "outputId": "6c2c1734-0eb6-4832-b274-7eb139a7d355"
      },
      "source": [
        "with torch.no_grad():\n",
        "  for test_image,target in test_loader:\n",
        "    test_pred = class_network(test_image)  #calling classification model\n",
        "    test_pred = test_pred.argmax(dim=1).reshape(-1,1)\n",
        "  test_data_reg = np.float32(np.concatenate([test_pred,Gen_Random_Num],axis=1))\n",
        "  Pred_Reg_Val = lr_model(Variable(torch.from_numpy(test_data_reg))).data.numpy()  #calling regression model\n",
        "  print(Pred_Reg_Val)  #predicion score"
      ],
      "execution_count": 140,
      "outputs": [
        {
          "output_type": "stream",
          "text": [
            "[[12.588585 ]\n",
            " [12.366396 ]\n",
            " [ 6.3295846]\n",
            " [ 1.7238454]\n",
            " [ 6.3295846]\n",
            " [13.319177 ]\n",
            " [ 9.824381 ]\n",
            " [ 7.410416 ]\n",
            " [10.8411875]\n",
            " [10.618999 ]\n",
            " [14.049768 ]\n",
            " [ 1.2154423]\n",
            " [ 6.8379874]\n",
            " [ 8.807574 ]\n",
            " [ 5.6630187]\n",
            " [ 6.9020133]\n",
            " [12.080182 ]\n",
            " [14.049768 ]\n",
            " [11.635804 ]\n",
            " [10.618999 ]\n",
            " [14.049768 ]\n",
            " [12.302371 ]\n",
            " [ 7.632605 ]\n",
            " [ 2.4544373]\n",
            " [16.749945 ]\n",
            " [ 7.854794 ]\n",
            " [14.049768 ]\n",
            " [ 5.4408298]\n",
            " [ 7.632605 ]\n",
            " [12.080182 ]\n",
            " [ 1.9460341]\n",
            " [ 6.8379874]\n",
            " [13.096988 ]\n",
            " [ 4.4240236]\n",
            " [11.127401 ]\n",
            " [12.080182 ]\n",
            " [16.241543 ]\n",
            " [ 8.0769825]\n",
            " [ 7.9188194]\n",
            " [ 1.2154423]\n",
            " [ 7.9188194]\n",
            " [10.332784 ]\n",
            " [ 6.3936105]\n",
            " [ 6.3936105]\n",
            " [ 4.201835 ]\n",
            " [16.749945 ]\n",
            " [ 1.7238454]\n",
            " [10.554973 ]\n",
            " [ 4.1378093]\n",
            " [ 8.649411 ]\n",
            " [ 4.646212 ]\n",
            " [ 2.6766257]\n",
            " [ 6.3295846]\n",
            " [11.571778 ]\n",
            " [ 3.6934319]\n",
            " [ 7.568579 ]\n",
            " [ 6.1073956]\n",
            " [14.271957 ]\n",
            " [13.541366 ]\n",
            " [14.78036  ]\n",
            " [ 9.824381 ]\n",
            " [ 7.9188194]\n",
            " [ 2.6766257]\n",
            " [15.002549 ]\n",
            " [ 1.2154423]\n",
            " [ 4.932427 ]\n",
            " [10.8411875]\n",
            " [16.241543 ]\n",
            " [ 9.888407 ]\n",
            " [ 5.376804 ]\n",
            " [12.524559 ]\n",
            " [ 4.4240236]\n",
            " [ 5.4408298]\n",
            " [13.8275795]\n",
            " [ 6.9020133]\n",
            " [ 6.3936105]\n",
            " [10.110595 ]\n",
            " [ 9.824381 ]\n",
            " [ 6.8379874]\n",
            " [12.810774 ]\n",
            " [ 8.0769825]\n",
            " [11.571778 ]\n",
            " [ 8.141008 ]\n",
            " [ 2.6766257]\n",
            " [ 4.646212 ]\n",
            " [ 5.885207 ]\n",
            " [ 5.6630187]\n",
            " [ 6.1714215]\n",
            " [10.332784 ]\n",
            " [11.571778 ]\n",
            " [15.002549 ]\n",
            " [15.510952 ]\n",
            " [15.288763 ]\n",
            " [ 5.598993 ]\n",
            " [ 6.8379874]\n",
            " [ 8.807574 ]\n",
            " [ 4.932427 ]\n",
            " [ 6.1714215]\n",
            " [11.793967 ]\n",
            " [10.110595 ]]\n"
          ],
          "name": "stdout"
        }
      ]
    },
    {
      "cell_type": "code",
      "metadata": {
        "id": "zxeM9_eY4b9Y"
      },
      "source": [
        ""
      ],
      "execution_count": null,
      "outputs": []
    },
    {
      "cell_type": "code",
      "metadata": {
        "id": "pkWnl-yi4b_Q"
      },
      "source": [
        ""
      ],
      "execution_count": null,
      "outputs": []
    },
    {
      "cell_type": "markdown",
      "metadata": {
        "id": "bIge_hjIUbUI"
      },
      "source": [
        ""
      ]
    }
  ]
}